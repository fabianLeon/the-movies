{
 "cells": [
  {
   "attachments": {},
   "cell_type": "markdown",
   "metadata": {},
   "source": [
    "<h1>Imports y definicion procesador  de vectores"
   ]
  },
  {
   "cell_type": "code",
   "execution_count": 77,
   "metadata": {},
   "outputs": [],
   "source": [
    "from sklearn import tree\n",
    "from sklearn.model_selection import train_test_split\n",
    "from sklearn.feature_extraction.text import TfidfVectorizer\n",
    "import pandas as pd\n",
    "import numpy as np\n",
    "\n",
    "\n",
    "def processVector(vector=None):\n",
    "    if vector is None:\n",
    "        return 0\n",
    "    else:\n",
    "        #return np.sum(vector.data)\n",
    "        #return np.prod(vector.data)\n",
    "        #return np.linalg.norm(vector.data)\n",
    "        return np.linalg.norm(vector.data, ord=1)"
   ]
  },
  {
   "attachments": {},
   "cell_type": "markdown",
   "metadata": {},
   "source": [
    "<h1> Carga de data y normalize"
   ]
  },
  {
   "cell_type": "code",
   "execution_count": 78,
   "metadata": {},
   "outputs": [],
   "source": [
    "\n",
    "movies_md = pd.read_csv(\"movies_all_data_nosplit.csv\")\n",
    "movies_md = movies_md.fillna(\"\")\n",
    "tfidf_vectors = np.zeros(\n",
    "    shape=(len(movies_md), len(movies_md.columns)), dtype=float)\n",
    "for indice, fila in movies_md.iterrows():\n",
    "    columna_vectors = []\n",
    "    for valor in fila.values:\n",
    "        if not valor.strip():\n",
    "            columna_vectors.append(processVector())\n",
    "            continue\n",
    "        vector = TfidfVectorizer(\n",
    "            min_df=1,\n",
    "            stop_words=None,\n",
    "            token_pattern=r\"(?u)\\b\\w+\\b|[\\u4e00-\\u9fff]+|[A-Za-z\\.&]+\\S*\",\n",
    "        ).fit_transform([str(valor)])\n",
    "        columna_vectors.append(processVector(vector))\n",
    "    tfidf_vectors[indice] = columna_vectors\n",
    "tfidf_vectors = pd.DataFrame(tfidf_vectors, columns=movies_md.columns)\n"
   ]
  },
  {
   "attachments": {},
   "cell_type": "markdown",
   "metadata": {},
   "source": [
    "<h1>Separacion de data "
   ]
  },
  {
   "cell_type": "code",
   "execution_count": 67,
   "metadata": {},
   "outputs": [],
   "source": [
    "\n",
    "features = [\"overview\",\t\"keywords\"\t,\"cast\"\t,\"genre\"]\n",
    "x = tfidf_vectors[features]\n",
    "y = tfidf_vectors.original_title\n",
    "datos_entrenamiento,    datos_pruebas,    objetivo_entrenamiento,    objetivo_pruebas, = train_test_split(\n",
    "   x,\n",
    "   y\n",
    ") "
   ]
  },
  {
   "attachments": {},
   "cell_type": "markdown",
   "metadata": {},
   "source": [
    "<h1>Carga de data al modelo (Arbol)"
   ]
  },
  {
   "cell_type": "code",
   "execution_count": 92,
   "metadata": {},
   "outputs": [],
   "source": [
    "arbol = tree.ExtraTreeRegressor()\n",
    "modelo = arbol.fit(datos_entrenamiento, objetivo_entrenamiento)\n"
   ]
  },
  {
   "attachments": {},
   "cell_type": "markdown",
   "metadata": {},
   "source": [
    "<h1> Como le fue con lo entrenado"
   ]
  },
  {
   "cell_type": "code",
   "execution_count": 88,
   "metadata": {},
   "outputs": [
    {
     "name": "stdout",
     "output_type": "stream",
     "text": [
      "0.009943320422268642\n"
     ]
    }
   ],
   "source": [
    "score_entrena = arbol.score(datos_entrenamiento, objetivo_entrenamiento)\n",
    "\n",
    "print(score_entrena)\n"
   ]
  },
  {
   "attachments": {},
   "cell_type": "markdown",
   "metadata": {},
   "source": [
    "<h1> Como le fue con data de prueba"
   ]
  },
  {
   "cell_type": "code",
   "execution_count": 89,
   "metadata": {},
   "outputs": [
    {
     "name": "stdout",
     "output_type": "stream",
     "text": [
      "0.0003481279574153451\n"
     ]
    }
   ],
   "source": [
    "score_pruebas = arbol.score(datos_pruebas, objetivo_pruebas)\n",
    "print(score_pruebas)"
   ]
  },
  {
   "cell_type": "code",
   "execution_count": 95,
   "metadata": {},
   "outputs": [
    {
     "name": "stdout",
     "output_type": "stream",
     "text": [
      "|--- feature_0 <= 6.06\n",
      "|   |--- feature_1 <= 1.71\n",
      "|   |   |--- feature_1 <= 0.96\n",
      "|   |   |   |--- feature_0 <= 1.73\n",
      "|   |   |   |   |--- feature_2 <= 3.47\n",
      "|   |   |   |   |   |--- value: [1.90]\n",
      "|   |   |   |   |--- feature_2 >  3.47\n",
      "|   |   |   |   |   |--- value: [1.84]\n",
      "|   |   |   |--- feature_0 >  1.73\n",
      "|   |   |   |   |--- feature_2 <= 2.91\n",
      "|   |   |   |   |   |--- value: [1.52]\n",
      "|   |   |   |   |--- feature_2 >  2.91\n",
      "|   |   |   |   |   |--- value: [1.60]\n",
      "|   |   |--- feature_1 >  0.96\n",
      "|   |   |   |--- feature_3 <= 2.52\n",
      "|   |   |   |   |--- feature_2 <= 3.36\n",
      "|   |   |   |   |   |--- value: [1.71]\n",
      "|   |   |   |   |--- feature_2 >  3.36\n",
      "|   |   |   |   |   |--- value: [1.60]\n",
      "|   |   |   |--- feature_3 >  2.52\n",
      "|   |   |   |   |--- value: [2.12]\n",
      "|   |--- feature_1 >  1.71\n",
      "|   |   |--- feature_0 <= 5.16\n",
      "|   |   |   |--- feature_1 <= 6.83\n",
      "|   |   |   |   |--- feature_1 <= 3.43\n",
      "|   |   |   |   |   |--- value: [1.57]\n",
      "|   |   |   |   |--- feature_1 >  3.43\n",
      "|   |   |   |   |   |--- value: [1.54]\n",
      "|   |   |   |--- feature_1 >  6.83\n",
      "|   |   |   |   |--- feature_1 <= 8.49\n",
      "|   |   |   |   |   |--- value: [2.34]\n",
      "|   |   |   |   |--- feature_1 >  8.49\n",
      "|   |   |   |   |   |--- value: [1.73]\n",
      "|   |   |--- feature_0 >  5.16\n",
      "|   |   |   |--- feature_2 <= 10.73\n",
      "|   |   |   |   |--- feature_1 <= 3.88\n",
      "|   |   |   |   |   |--- value: [1.60]\n",
      "|   |   |   |   |--- feature_1 >  3.88\n",
      "|   |   |   |   |   |--- value: [1.63]\n",
      "|   |   |   |--- feature_2 >  10.73\n",
      "|   |   |   |   |--- feature_2 <= 12.54\n",
      "|   |   |   |   |   |--- value: [1.54]\n",
      "|   |   |   |   |--- feature_2 >  12.54\n",
      "|   |   |   |   |   |--- value: [2.11]\n",
      "|--- feature_0 >  6.06\n",
      "|   |--- feature_3 <= 1.31\n",
      "|   |   |--- feature_1 <= 9.48\n",
      "|   |   |   |--- feature_0 <= 8.25\n",
      "|   |   |   |   |--- feature_2 <= 8.96\n",
      "|   |   |   |   |   |--- value: [1.63]\n",
      "|   |   |   |   |--- feature_2 >  8.96\n",
      "|   |   |   |   |   |--- value: [1.42]\n",
      "|   |   |   |--- feature_0 >  8.25\n",
      "|   |   |   |   |--- feature_0 <= 8.39\n",
      "|   |   |   |   |   |--- value: [2.10]\n",
      "|   |   |   |   |--- feature_0 >  8.39\n",
      "|   |   |   |   |   |--- value: [2.45]\n",
      "|   |   |--- feature_1 >  9.48\n",
      "|   |   |   |--- value: [1.41]\n",
      "|   |--- feature_3 >  1.31\n",
      "|   |   |--- feature_3 <= 1.86\n",
      "|   |   |   |--- feature_2 <= 13.86\n",
      "|   |   |   |   |--- feature_0 <= 6.15\n",
      "|   |   |   |   |   |--- value: [1.56]\n",
      "|   |   |   |   |--- feature_0 >  6.15\n",
      "|   |   |   |   |   |--- value: [1.61]\n",
      "|   |   |   |--- feature_2 >  13.86\n",
      "|   |   |   |   |--- value: [2.45]\n",
      "|   |   |--- feature_3 >  1.86\n",
      "|   |   |   |--- feature_1 <= 0.91\n",
      "|   |   |   |   |--- feature_2 <= 4.19\n",
      "|   |   |   |   |   |--- value: [1.82]\n",
      "|   |   |   |   |--- feature_2 >  4.19\n",
      "|   |   |   |   |   |--- value: [1.46]\n",
      "|   |   |   |--- feature_1 >  0.91\n",
      "|   |   |   |   |--- feature_1 <= 4.90\n",
      "|   |   |   |   |   |--- value: [1.62]\n",
      "|   |   |   |   |--- feature_1 >  4.90\n",
      "|   |   |   |   |   |--- value: [1.34]\n",
      "\n"
     ]
    },
    {
     "ename": "AttributeError",
     "evalue": "module 'matplotlib' has no attribute 'get_data_path'",
     "output_type": "error",
     "traceback": [
      "\u001b[1;31m---------------------------------------------------------------------------\u001b[0m",
      "\u001b[1;31mAttributeError\u001b[0m                            Traceback (most recent call last)",
      "Cell \u001b[1;32mIn[95], line 3\u001b[0m\n\u001b[0;32m      1\u001b[0m \u001b[39mprint\u001b[39m(tree\u001b[39m.\u001b[39mexport_text(modelo))\n\u001b[1;32m----> 3\u001b[0m \u001b[39mimport\u001b[39;00m \u001b[39mmatplotlib\u001b[39;00m\u001b[39m.\u001b[39;00m\u001b[39mpyplot\u001b[39;00m \u001b[39mas\u001b[39;00m \u001b[39mplt\u001b[39;00m\n\u001b[0;32m      4\u001b[0m plt\u001b[39m.\u001b[39mfigure(figsize\u001b[39m=\u001b[39m(\u001b[39m12\u001b[39m, \u001b[39m6\u001b[39m))\n\u001b[0;32m      5\u001b[0m tree\u001b[39m.\u001b[39mplot_tree(modelo)\n",
      "File \u001b[1;32mc:\\Repos\\Eagle\\the-movies\\venv\\Lib\\site-packages\\matplotlib\\__init__.py:965\u001b[0m\n\u001b[0;32m    958\u001b[0m     \u001b[39mreturn\u001b[39;00m config\n\u001b[0;32m    961\u001b[0m \u001b[39m# When constructing the global instances, we need to perform certain updates\u001b[39;00m\n\u001b[0;32m    962\u001b[0m \u001b[39m# by explicitly calling the superclass (dict.update, dict.items) to avoid\u001b[39;00m\n\u001b[0;32m    963\u001b[0m \u001b[39m# triggering resolution of _auto_backend_sentinel.\u001b[39;00m\n\u001b[0;32m    964\u001b[0m rcParamsDefault \u001b[39m=\u001b[39m _rc_params_in_file(\n\u001b[1;32m--> 965\u001b[0m     cbook\u001b[39m.\u001b[39;49m_get_data_path(\u001b[39m\"\u001b[39;49m\u001b[39mmatplotlibrc\u001b[39;49m\u001b[39m\"\u001b[39;49m),\n\u001b[0;32m    966\u001b[0m     \u001b[39m# Strip leading comment.\u001b[39;00m\n\u001b[0;32m    967\u001b[0m     transform\u001b[39m=\u001b[39m\u001b[39mlambda\u001b[39;00m line: line[\u001b[39m1\u001b[39m:] \u001b[39mif\u001b[39;00m line\u001b[39m.\u001b[39mstartswith(\u001b[39m\"\u001b[39m\u001b[39m#\u001b[39m\u001b[39m\"\u001b[39m) \u001b[39melse\u001b[39;00m line,\n\u001b[0;32m    968\u001b[0m     fail_on_error\u001b[39m=\u001b[39m\u001b[39mTrue\u001b[39;00m)\n\u001b[0;32m    969\u001b[0m \u001b[39mdict\u001b[39m\u001b[39m.\u001b[39mupdate(rcParamsDefault, rcsetup\u001b[39m.\u001b[39m_hardcoded_defaults)\n\u001b[0;32m    970\u001b[0m \u001b[39m# Normally, the default matplotlibrc file contains *no* entry for backend (the\u001b[39;00m\n\u001b[0;32m    971\u001b[0m \u001b[39m# corresponding line starts with ##, not #; we fill on _auto_backend_sentinel\u001b[39;00m\n\u001b[0;32m    972\u001b[0m \u001b[39m# in that case.  However, packagers can set a different default backend\u001b[39;00m\n\u001b[0;32m    973\u001b[0m \u001b[39m# (resulting in a normal `#backend: foo` line) in which case we should *not*\u001b[39;00m\n\u001b[0;32m    974\u001b[0m \u001b[39m# fill in _auto_backend_sentinel.\u001b[39;00m\n",
      "File \u001b[1;32mc:\\Repos\\Eagle\\the-movies\\venv\\Lib\\site-packages\\matplotlib\\cbook\\__init__.py:556\u001b[0m, in \u001b[0;36m_get_data_path\u001b[1;34m(*args)\u001b[0m\n\u001b[0;32m    550\u001b[0m \u001b[39mdef\u001b[39;00m \u001b[39m_get_data_path\u001b[39m(\u001b[39m*\u001b[39margs):\n\u001b[0;32m    551\u001b[0m \u001b[39m    \u001b[39m\u001b[39m\"\"\"\u001b[39;00m\n\u001b[0;32m    552\u001b[0m \u001b[39m    Return the `pathlib.Path` to a resource file provided by Matplotlib.\u001b[39;00m\n\u001b[0;32m    553\u001b[0m \n\u001b[0;32m    554\u001b[0m \u001b[39m    ``*args`` specify a path relative to the base data path.\u001b[39;00m\n\u001b[0;32m    555\u001b[0m \u001b[39m    \"\"\"\u001b[39;00m\n\u001b[1;32m--> 556\u001b[0m     \u001b[39mreturn\u001b[39;00m Path(matplotlib\u001b[39m.\u001b[39;49mget_data_path(), \u001b[39m*\u001b[39margs)\n",
      "\u001b[1;31mAttributeError\u001b[0m: module 'matplotlib' has no attribute 'get_data_path'"
     ]
    }
   ],
   "source": [
    "print(tree.export_text(modelo))\n",
    "\n",
    "import matplotlib.pyplot as plt\n",
    "\n",
    "\n",
    "print(tree.export_text(modelo,\n",
    "                       feature_names=[\"overview\",\t\"keywords\", \"cast\", \"genre\"]))\n",
    "\n",
    "plt.figure(figsize=(12, 6))\n",
    "tree.plot_tree(modelo, feature_names=[\"overview\",\t\"keywords\", \"cast\", \"genre\"])\n",
    "plt.show()\n",
    "\n"
   ]
  }
 ],
 "metadata": {
  "kernelspec": {
   "display_name": "venv",
   "language": "python",
   "name": "python3"
  },
  "language_info": {
   "codemirror_mode": {
    "name": "ipython",
    "version": 3
   },
   "file_extension": ".py",
   "mimetype": "text/x-python",
   "name": "python",
   "nbconvert_exporter": "python",
   "pygments_lexer": "ipython3",
   "version": "3.11.3"
  },
  "orig_nbformat": 4
 },
 "nbformat": 4,
 "nbformat_minor": 2
}
